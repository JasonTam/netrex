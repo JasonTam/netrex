{
 "cells": [
  {
   "cell_type": "code",
   "execution_count": 43,
   "metadata": {
    "collapsed": true
   },
   "outputs": [],
   "source": [
    "import pandas as pd\n",
    "import numpy as np\n",
    "\n",
    "import seaborn as sns\n",
    "%matplotlib inline\n",
    "\n",
    "PATH_RATINGS = '../data/snap_amazon/video_games/ratings.msg'\n",
    "PATH_META = '../data/snap_amazon/video_games/meta.msg'\n",
    "PATH_IMG_EMBS = '../data/snap_amazon/video_games/img_embs.msg'\n",
    "\n",
    "ratings_col = 'rating'"
   ]
  },
  {
   "cell_type": "code",
   "execution_count": 2,
   "metadata": {
    "collapsed": true
   },
   "outputs": [],
   "source": [
    "ratings_df = pd.read_msgpack(PATH_RATINGS)"
   ]
  },
  {
   "cell_type": "code",
   "execution_count": 5,
   "metadata": {},
   "outputs": [
    {
     "data": {
      "text/plain": [
       "5.0    709770\n",
       "4.0    260260\n",
       "1.0    152840\n",
       "3.0    124370\n",
       "2.0     77513\n",
       "Name: rating, dtype: int64"
      ]
     },
     "execution_count": 5,
     "metadata": {},
     "output_type": "execute_result"
    }
   ],
   "source": [
    "ratings_df.rating.value_counts()"
   ]
  },
  {
   "cell_type": "code",
   "execution_count": 21,
   "metadata": {
    "collapsed": true
   },
   "outputs": [],
   "source": [
    "ratings_unary_df = ratings_df.loc[ratings_df[ratings_col] >= 5.0].drop(ratings_col, axis=1)\n",
    "ratings_unary_df.to_msgpack('../data/snap_amazon/video_games/ratings_unary.msg')"
   ]
  },
  {
   "cell_type": "markdown",
   "metadata": {},
   "source": [
    "# User Features"
   ]
  },
  {
   "cell_type": "code",
   "execution_count": 40,
   "metadata": {
    "collapsed": true
   },
   "outputs": [],
   "source": [
    "s = ratings_df.groupby('user_id').rating.sum()\n"
   ]
  },
  {
   "cell_type": "code",
   "execution_count": 64,
   "metadata": {
    "collapsed": true
   },
   "outputs": [],
   "source": [
    "prolific_s = np.log1p(s) >= np.log1p(s).median()\n",
    "prolific_s = prolific_s.astype('category')\n",
    "prolific_s.name = 'prolific'"
   ]
  },
  {
   "cell_type": "code",
   "execution_count": 121,
   "metadata": {
    "collapsed": true
   },
   "outputs": [],
   "source": [
    "user_feats_df = pd.concat([\n",
    "    prolific_s\n",
    "], axis=1)"
   ]
  },
  {
   "cell_type": "code",
   "execution_count": 122,
   "metadata": {
    "collapsed": true
   },
   "outputs": [],
   "source": [
    "user_feats_df.to_msgpack('../data/snap_amazon/video_games/user_feats.msg')"
   ]
  },
  {
   "cell_type": "markdown",
   "metadata": {},
   "source": [
    "# Item Features"
   ]
  },
  {
   "cell_type": "code",
   "execution_count": 69,
   "metadata": {
    "collapsed": true
   },
   "outputs": [],
   "source": [
    "meta_df = pd.read_msgpack(PATH_META)"
   ]
  },
  {
   "cell_type": "code",
   "execution_count": 114,
   "metadata": {
    "collapsed": true
   },
   "outputs": [],
   "source": [
    "def extract_level(x):\n",
    "    x0 = x[0]\n",
    "    if len(x0) > 1:\n",
    "        return x0[1]\n",
    "    else:\n",
    "        return x0[0]\n",
    "    \n",
    "some_category_s = meta_df.categories.apply(extract_level)\n",
    "\n",
    "some_category_s = some_category_s.astype('category')\n",
    "some_category_s.name = 'game_cat'"
   ]
  },
  {
   "cell_type": "code",
   "execution_count": 123,
   "metadata": {
    "collapsed": true
   },
   "outputs": [],
   "source": [
    "item_feats_df = pd.concat([\n",
    "    some_category_s\n",
    "], axis=1)"
   ]
  },
  {
   "cell_type": "code",
   "execution_count": 124,
   "metadata": {
    "collapsed": true
   },
   "outputs": [],
   "source": [
    "item_feats_df.to_msgpack('../data/snap_amazon/video_games/item_feats.msg')"
   ]
  }
 ],
 "metadata": {
  "kernelspec": {
   "display_name": "Python 3",
   "language": "python",
   "name": "python3"
  },
  "language_info": {
   "codemirror_mode": {
    "name": "ipython",
    "version": 3
   },
   "file_extension": ".py",
   "mimetype": "text/x-python",
   "name": "python",
   "nbconvert_exporter": "python",
   "pygments_lexer": "ipython3",
   "version": "3.5.3"
  }
 },
 "nbformat": 4,
 "nbformat_minor": 2
}
