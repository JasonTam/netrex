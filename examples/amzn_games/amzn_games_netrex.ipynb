{
 "cells": [
  {
   "cell_type": "code",
   "execution_count": 1,
   "metadata": {},
   "outputs": [],
   "source": [
    "import numpy as np\n",
    "import pandas as pd\n",
    "import scipy.sparse as sp\n",
    "import torch\n",
    "import torch.nn as nn\n",
    "from torch.autograd import Variable\n",
    "\n",
    "from netrex.netrex import FactorizationModel, SequenceModel, generate_sequences\n",
    "from netrex.evaluation import auc_score, mrr_score\n",
    "\n",
    "from netrex.utils import _cpu, _gpu, _minibatch  # deal with it\n",
    "from netrex.netrex2 import ShitNet\n",
    "import itertools\n",
    "from functools import reduce\n",
    "from operator import add, mul\n",
    "\n",
    "from typing import List, Dict\n",
    "\n",
    "import matplotlib.pyplot as plt\n",
    "import seaborn as sns\n",
    "\n",
    "%matplotlib inline\n",
    "\n",
    "embedding_dim = 10\n",
    "minibatch_size = 2048\n",
    "n_iter = 10\n",
    "cuda = False\n",
    "\n",
    "PATH_INTERACTIONS = '../data/snap_amazon/video_games/ratings_unary.msg'\n",
    "PATH_USER_FEATS = '../data/snap_amazon/video_games/user_feats.msg'\n",
    "PATH_ITEM_FEATS = '../data/snap_amazon/video_games/item_feats.msg'\n",
    "\n",
    "user_col = 'user_id'\n",
    "item_col = 'asin'\n",
    "ts_col = 'timestamp'\n",
    "\n",
    "context_cols = ['month', 'dayofweek']\n",
    "\n",
    "SEED = 322\n",
    "\n",
    "split_date = '2014-01-01'"
   ]
  },
  {
   "cell_type": "markdown",
   "metadata": {},
   "source": [
    "# Load and some more Preproc"
   ]
  },
  {
   "cell_type": "code",
   "execution_count": 2,
   "metadata": {
    "collapsed": true
   },
   "outputs": [],
   "source": [
    "xns_df = pd.read_msgpack(PATH_INTERACTIONS).sample(100000, random_state=SEED)\n",
    "user_feats_df = pd.read_msgpack(PATH_USER_FEATS)\n",
    "item_feats_df = pd.read_msgpack(PATH_ITEM_FEATS)"
   ]
  },
  {
   "cell_type": "code",
   "execution_count": 3,
   "metadata": {},
   "outputs": [],
   "source": [
    "# Dummy context features\n",
    "xns_df['month'] = xns_df['timestamp'].dt.month\n",
    "xns_df['dayofweek'] = xns_df['timestamp'].dt.dayofweek"
   ]
  },
  {
   "cell_type": "code",
   "execution_count": 4,
   "metadata": {},
   "outputs": [
    {
     "name": "stdout",
     "output_type": "stream",
     "text": [
      "(81513, 5)\n",
      "(18487, 5)\n"
     ]
    }
   ],
   "source": [
    "# Train-Val split\n",
    "# in reality, user_feats_df and item_feats_df should have new categories removed too\n",
    "train_df = xns_df.loc[xns_df[ts_col] < split_date].copy()\n",
    "val_df = xns_df.loc[xns_df[ts_col] >= split_date].copy()\n",
    "print(train_df.shape)\n",
    "print(val_df.shape)"
   ]
  },
  {
   "cell_type": "code",
   "execution_count": 5,
   "metadata": {},
   "outputs": [],
   "source": [
    "# Categorical dtype\n",
    "for col in [user_col, item_col] + context_cols:\n",
    "    train_df[col] = train_df[col].astype('category')\n",
    "    val_df[col] = val_df[col].astype('category', categories=train_df[col].cat.categories)\n",
    "    \n",
    "cat_d = {\n",
    "    col: pd.CategoricalIndex(train_df[col].cat.categories, name=col)\n",
    "    for col in [user_col, item_col] + context_cols\n",
    "}"
   ]
  },
  {
   "cell_type": "code",
   "execution_count": 6,
   "metadata": {},
   "outputs": [
    {
     "data": {
      "text/plain": [
       "False    17826\n",
       "True       661\n",
       "dtype: int64"
      ]
     },
     "execution_count": 6,
     "metadata": {},
     "output_type": "execute_result"
    }
   ],
   "source": [
    "(val_df[user_col].notnull() & val_df[item_col].notnull()).value_counts()"
   ]
  },
  {
   "cell_type": "code",
   "execution_count": 7,
   "metadata": {
    "collapsed": true
   },
   "outputs": [],
   "source": [
    "# Add User and Item Feats to catalog\n",
    "for col in user_feats_df.columns:\n",
    "    cat_d[col] = pd.CategoricalIndex(user_feats_df[col].cat.categories, name=col)\n",
    "for col in item_feats_df.columns:\n",
    "    cat_d[col] = pd.CategoricalIndex(item_feats_df[col].cat.categories, name=col)"
   ]
  },
  {
   "cell_type": "markdown",
   "metadata": {},
   "source": [
    "# Book-keeping methods"
   ]
  },
  {
   "cell_type": "code",
   "execution_count": 8,
   "metadata": {},
   "outputs": [],
   "source": [
    "def lookup(feature_fields_ids: Dict[str, Variable],\n",
    "           feature_maps: Dict[str, nn.Embedding],\n",
    "           col_dep: str) -> Dict[str, Variable]:\n",
    "    \"\"\"\n",
    "    Lookup values with prerequisites in `feature_fields_ids`\n",
    "    These results will eventually find their way in `feature_fields_ids`\n",
    "    \"\"\"\n",
    "    return {\n",
    "        feat_name: feat_map(feature_fields_ids[col_dep]).long().squeeze()\n",
    "        for feat_name, feat_map in feature_maps.items()\n",
    "    }\n",
    "        \n",
    "    \n",
    "def lookups_via_features(feats_df: pd.DataFrame, index_cats) -> Dict[str, nn.Embedding]:\n",
    "    \"\"\"\n",
    "    feats_df: user or item features\n",
    "        index should be user or item id such that the ordering matches user or item codes\n",
    "        each column should be of dtype category\n",
    "    # n_indices: number of users or number of items\n",
    "    index_cats: user or item index catgories (cat_d[user_col].categories) \n",
    "    feature_maps: to be used to convert a user or item id into the corresponding feature code\n",
    "    \"\"\"\n",
    "    n_indices = len(index_cats)\n",
    "    feature_maps = {}\n",
    "    for col in feats_df.columns:\n",
    "        emb = nn.Embedding(n_indices, embedding_dim=1, sparse=False)\n",
    "        emb.weight = nn.Parameter(torch.from_numpy(\n",
    "            feats_df.loc[index_cats][col].cat.codes.values[:, None].astype('float32')))\n",
    "        emb.weight.requires_grad = False\n",
    "        feature_maps[col] = emb\n",
    "    return feature_maps\n",
    "\n",
    "\n",
    "user_feature_maps = lookups_via_features(user_feats_df, cat_d[user_col])\n",
    "item_feature_maps = lookups_via_features(item_feats_df, cat_d[item_col])\n",
    "\n",
    "def get_fields_ids(user_ids: Variable,\n",
    "                   item_ids: Variable,\n",
    "                   contexts: Variable) -> Dict[str, Variable]:\n",
    "    feature_fields_ids = {\n",
    "        user_col: user_ids,\n",
    "        item_col: item_ids,\n",
    "    }\n",
    "    feature_fields_ids.update(lookup(feature_fields_ids, user_feature_maps, user_col))\n",
    "    feature_fields_ids.update(lookup(feature_fields_ids, item_feature_maps, item_col))\n",
    "    feature_fields_ids.update({col: contexts[:, ii] for ii, col in enumerate(context_cols)})\n",
    "    # Potentially more complex feature dependency graphs\n",
    "    \n",
    "    return feature_fields_ids"
   ]
  },
  {
   "cell_type": "code",
   "execution_count": 9,
   "metadata": {
    "collapsed": true
   },
   "outputs": [],
   "source": [
    "import torch.nn as nn\n",
    "import torch.nn.functional as F\n",
    "import torch.optim as optim\n",
    "from torch.autograd import Variable\n",
    "from netrex.layers import ScaledEmbedding, ZeroEmbedding\n",
    "from netrex.utils import _cpu, _gpu, _minibatch  # deal with it\n",
    "from typing import Dict, List, Tuple\n",
    "import pandas as pd\n",
    "import itertools\n",
    "from functools import reduce\n",
    "from operator import add, mul\n",
    "from time import time\n",
    "CatsDict = Dict[str, pd.CategoricalIndex]\n",
    "\n",
    "class FNet(nn.Module):\n",
    "    \n",
    "    def __init__(self, cats_d: CatsDict, embedding_dim: int, sparse=False):\n",
    "        super().__init__()\n",
    "\n",
    "        self.embedding_dim = embedding_dim\n",
    "\n",
    "        # TODO: I think the book-keeping can be done within\n",
    "        # just using named modules\n",
    "        self.embeddings_d = {\n",
    "            field: ScaledEmbedding(len(cat_index.categories), embedding_dim,\n",
    "                                   sparse=sparse)\n",
    "            for field, cat_index in cats_d.items()\n",
    "        }\n",
    "        self.biases_d = {\n",
    "            field: ZeroEmbedding(len(cat_index.categories), 1,\n",
    "                                 sparse=sparse)\n",
    "            for field, cat_index in cats_d.items()\n",
    "        }\n",
    "\n",
    "        for field, module in self.embeddings_d.items():\n",
    "            self.add_module('embedding_{}'.format(field), module)\n",
    "        for field, module in self.biases_d.items():\n",
    "            self.add_module('bias_{}'.format(field), module)\n",
    "\n",
    "    def forward(self, user_ids, item_ids, contexts):\n",
    "\n",
    "        feature_fields_ids = get_fields_ids(user_ids, item_ids, contexts)\n",
    "\n",
    "        # Iter of batch_size X embedding_dim tensors\n",
    "        embeddings = [self.embeddings_d[fields](ids)\n",
    "                      for fields, ids in feature_fields_ids.items()]\n",
    "        biases = [self.biases_d[fields](ids)\n",
    "                  for fields, ids in feature_fields_ids.items()]\n",
    "\n",
    "        contrib_dot = reduce(add, (\n",
    "            mul(*pair).sum(1)\n",
    "            for pair in itertools.combinations(embeddings, 2))\n",
    "                             )\n",
    "        contrib_bias = reduce(add, biases)\n",
    "\n",
    "        return contrib_dot + contrib_bias"
   ]
  },
  {
   "cell_type": "code",
   "execution_count": 10,
   "metadata": {
    "collapsed": true
   },
   "outputs": [],
   "source": [
    "class FModel(object):\n",
    "\n",
    "    def __init__(self,\n",
    "                 col_cat_index_d,\n",
    "                 loss='bpr',\n",
    "                 embedding_dim=64,\n",
    "                 n_iter=1,\n",
    "                 batch_size=1024,\n",
    "                 l2=0.0,\n",
    "                 use_cuda=False,\n",
    "                 sparse=False):\n",
    "\n",
    "        self.col_cat_index_d = col_cat_index_d\n",
    "        \n",
    "        self._loss = loss\n",
    "        self._embedding_dim = embedding_dim\n",
    "        self._n_iter = n_iter\n",
    "        self._batch_size = batch_size\n",
    "        self._l2 = l2\n",
    "        self._use_cuda = use_cuda\n",
    "        self._sparse = sparse\n",
    "\n",
    "        self._num_users = None\n",
    "        self._num_items = None\n",
    "#         self._net = None\n",
    "        self._net = _gpu(\n",
    "            FNet(self.col_cat_index_d, self._embedding_dim),\n",
    "            self._use_cuda\n",
    "        )\n",
    "\n",
    "\n",
    "    def fit(self, interactions_df, verbose=False):\n",
    "        self._num_users, self._num_items = (len(interactions_df[col].cat.categories)\n",
    "                                            for col in [user_col, item_col])\n",
    "        \n",
    "        interactions = sp.csr_matrix(\n",
    "            (np.ones(len(interactions_df)),\n",
    "             (interactions_df[user_col].cat.codes,\n",
    "              interactions_df[item_col].cat.codes)),\n",
    "            shape=(self._num_users, self._num_items), dtype=np.float32)\n",
    "        \n",
    "        \n",
    "\n",
    "        if self._sparse:\n",
    "            optimizer = optim.Adagrad(self._net.parameters(),\n",
    "                                      weight_decay=self._l2)\n",
    "        else:\n",
    "            optimizer = optim.Adam(self._net.parameters(),\n",
    "                                   weight_decay=self._l2)\n",
    "\n",
    "#         loss_fnc = self._bpr_loss\n",
    "        \n",
    "        for epoch_num in range(self._n_iter):\n",
    "            # todo: shuffle in a more efficient way?\n",
    "            interactions_df = interactions_df.sample(frac=1)\n",
    "            # Storing in tensors\n",
    "            user_ids_tensor = _gpu(torch.from_numpy(interactions_df[user_col].cat.codes.values.astype('int64')),\n",
    "                                   cuda)\n",
    "            item_ids_tensor = _gpu(torch.from_numpy(interactions_df[item_col].cat.codes.values.astype('int64')),\n",
    "                                   cuda)\n",
    "            context_codes_df = pd.concat([interactions_df[col].cat.codes for col in context_cols], axis=1)\n",
    "            context_codes_df.columns = context_cols\n",
    "\n",
    "            context_tensor = _gpu(torch.from_numpy(context_codes_df.values.astype('int64')),\n",
    "                                  cuda)\n",
    "\n",
    "            epoch_loss = 0.0\n",
    "            ii = 0\n",
    "            tic = time()\n",
    "            for (batch_user, batch_item, batch_context) in zip(\n",
    "                _minibatch(user_ids_tensor, self._batch_size),\n",
    "                _minibatch(item_ids_tensor, self._batch_size),\n",
    "                _minibatch(context_tensor, self._batch_size)):\n",
    "\n",
    "                user_var = Variable(batch_user)\n",
    "                pos_item_var = Variable(batch_item)\n",
    "                context_var = Variable(batch_context)\n",
    "\n",
    "                pos_score = self._net(user_var, pos_item_var, context_var)\n",
    "                \n",
    "                # TODO: there is some repeat work in `neg_feature_fields_ids`\n",
    "                # that was already done in `pos_feature_fields_ids`\n",
    "                neg_item_var = Variable(_gpu(\n",
    "                    torch.from_numpy(np.random.randint(0,\n",
    "                                                       self._num_items,\n",
    "                                                       len(pos_item_var))),\n",
    "                    self._use_cuda))\n",
    "                neg_score = self._net(user_var, neg_item_var, context_var)\n",
    "\n",
    "                optimizer.zero_grad()\n",
    "\n",
    "                loss = (1.0 - F.sigmoid(pos_score -neg_score)).mean()\n",
    "                epoch_loss += loss.data[0]\n",
    "\n",
    "                loss.backward()\n",
    "                optimizer.step()\n",
    "                \n",
    "                ii += 1\n",
    "                if verbose and (ii%50)==0:\n",
    "                    print('{}: {} \\t {}'.format(ii, time()-tic, loss.mean().data[0]))\n",
    "\n",
    "            if verbose:\n",
    "                print('Epoch {}: loss {}'.format(epoch_num, epoch_loss))\n"
   ]
  },
  {
   "cell_type": "code",
   "execution_count": 11,
   "metadata": {
    "collapsed": true
   },
   "outputs": [],
   "source": [
    "model = FModel(cat_d, embedding_dim=10, batch_size=256)"
   ]
  },
  {
   "cell_type": "code",
   "execution_count": 12,
   "metadata": {
    "collapsed": true
   },
   "outputs": [],
   "source": [
    "val_in_train_df = val_df.loc[val_df[user_col].notnull() & val_df[item_col].notnull()]"
   ]
  },
  {
   "cell_type": "code",
   "execution_count": 13,
   "metadata": {},
   "outputs": [],
   "source": [
    "# Fit 1 epoch\n",
    "model.fit(train_df)"
   ]
  },
  {
   "cell_type": "code",
   "execution_count": 14,
   "metadata": {},
   "outputs": [],
   "source": [
    "# How can we eval?\n",
    "# eval will be slow because we cannot groupby user\n",
    "# since we are considering context... oh well\n",
    "# Let's use a ghetto mean avg precision\n",
    "\n",
    "def score_model(model, val_in_train_df, k=100):\n",
    "\n",
    "    user_ids_tensor = _gpu(torch.from_numpy(val_in_train_df[user_col].cat.codes.values.astype('int64')),\n",
    "                           cuda)\n",
    "    item_ids_tensor = _gpu(torch.from_numpy(val_in_train_df[item_col].cat.codes.values.astype('int64')),\n",
    "                           cuda)\n",
    "    context_codes_df = pd.concat([val_in_train_df[col].cat.codes for col in context_cols], axis=1)\n",
    "    context_codes_df.columns = context_cols\n",
    "\n",
    "    context_tensor = _gpu(torch.from_numpy(context_codes_df.values.astype('int64')),\n",
    "                          cuda)\n",
    "\n",
    "    items_all = Variable(\n",
    "        _gpu(torch.arange(0, model._num_items).long(),\n",
    "             model._use_cuda)\n",
    "    )\n",
    "\n",
    "    correct_in_k = []\n",
    "\n",
    "    for (batch_user, batch_item, batch_context) in zip(\n",
    "        _minibatch(user_ids_tensor, 1),\n",
    "        _minibatch(item_ids_tensor, 1),  # Doesn't really need to be tensorized\n",
    "        _minibatch(context_tensor, 1)):\n",
    "\n",
    "\n",
    "        user_rep = Variable(batch_user.repeat(model._num_items))\n",
    "        context_rep = Variable(batch_context.repeat(model._num_items, 1))\n",
    "        preds = model._net(\n",
    "            user_rep,\n",
    "            items_all,\n",
    "            context_rep\n",
    "        )\n",
    "\n",
    "        correct_in_k.append(batch_item.numpy() in np.argpartition(-preds.data.numpy(), kth=k, axis=0)[:k])\n",
    "        gmap = np.mean(correct_in_k)\n",
    "    return gmap"
   ]
  },
  {
   "cell_type": "code",
   "execution_count": 15,
   "metadata": {},
   "outputs": [
    {
     "name": "stdout",
     "output_type": "stream",
     "text": [
      "0 0.0166414523449\n",
      "1 0.0302571860817\n",
      "2 0.0438729198185\n",
      "3 0.0453857791225\n",
      "4 0.0453857791225\n",
      "5 0.0438729198185\n",
      "6 0.0438729198185\n",
      "7 0.0438729198185\n",
      "8 0.0453857791225\n",
      "9 0.0468986384266\n",
      "10 0.0453857791225\n",
      "11 0.0468986384266\n",
      "12 0.0453857791225\n",
      "13 0.0453857791225\n",
      "14 0.0468986384266\n",
      "15 0.0453857791225\n",
      "16 0.0453857791225\n",
      "17 0.0468986384266\n",
      "18 0.0453857791225\n",
      "19 0.0438729198185\n",
      "20 0.0453857791225\n",
      "21 0.0468986384266\n",
      "22 0.0468986384266\n",
      "23 0.0423600605144\n",
      "24 0.0438729198185\n",
      "25 0.0423600605144\n",
      "26 0.0423600605144\n",
      "27 0.0423600605144\n",
      "28 0.0423600605144\n",
      "29 0.0423600605144\n",
      "CPU times: user 3min 55s, sys: 21.2 s, total: 4min 17s\n",
      "Wall time: 2min 37s\n"
     ]
    }
   ],
   "source": [
    "%%time\n",
    "model = FModel(cat_d, embedding_dim=10, batch_size=1024)\n",
    "scores = []\n",
    "for ep in range(30):\n",
    "    model.fit(train_df)\n",
    "    score = score_model(model, val_in_train_df, k=10)\n",
    "    print(ep, score)\n",
    "    scores.append(score)"
   ]
  },
  {
   "cell_type": "code",
   "execution_count": 16,
   "metadata": {},
   "outputs": [
    {
     "data": {
      "text/plain": [
       "[<matplotlib.lines.Line2D at 0x7f582a027da0>]"
      ]
     },
     "execution_count": 16,
     "metadata": {},
     "output_type": "execute_result"
    },
    {
     "data": {
      "image/png": "[encoded data removed]",
      "text/plain": [
       "<matplotlib.figure.Figure at 0x7f582aa5d6d8>"
      ]
     },
     "metadata": {},
     "output_type": "display_data"
    }
   ],
   "source": [
    "plt.plot(scores)"
   ]
  }
 ],
 "metadata": {
  "kernelspec": {
   "display_name": "Python 3",
   "language": "python",
   "name": "python3"
  },
  "language_info": {
   "codemirror_mode": {
    "name": "ipython",
    "version": 3
   },
   "file_extension": ".py",
   "mimetype": "text/x-python",
   "name": "python",
   "nbconvert_exporter": "python",
   "pygments_lexer": "ipython3",
   "version": "3.5.3"
  }
 },
 "nbformat": 4,
 "nbformat_minor": 2
}
